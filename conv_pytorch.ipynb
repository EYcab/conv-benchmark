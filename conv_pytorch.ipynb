{
 "cells": [
  {
   "cell_type": "code",
   "execution_count": 1,
   "metadata": {
    "collapsed": true
   },
   "outputs": [],
   "source": [
    "%matplotlib inline \n",
    "import torch\n",
    "import torch.nn as nn\n",
    "from torch.autograd import Variable\n",
    "import time\n",
    "import matplotlib.pyplot as plt\n",
    "\n",
    "\n",
    "def get_conv(filter_num, param):\n",
    "    return nn.Conv2d(filter_num, filter_num, param[\"kernel_size\"],\n",
    "                     groups=filter_num if param[\"sep\"] else 1,\n",
    "                     padding=param[\"padding\"], bias=False)\n",
    "\n",
    "image_size = 32\n",
    "batch_num = 32\n",
    "layer_num = 16\n",
    "filter_nums = [8, 16, 32, 64]\n",
    "use_gpu = True\n",
    "# use_gpu = False\n",
    "\n",
    "params = {\n",
    "    \"conv5x5\": {\"kernel_size\": 5, \"sep\": False, \"padding\": 2},\n",
    "    \"conv3x3\": {\"kernel_size\": 3, \"sep\": False, \"padding\": 1},\n",
    "    \"conv3x3sep\": {\"kernel_size\": 3, \"sep\": True, \"padding\": 1},\n",
    "    \"conv1x1\": {\"kernel_size\": 1, \"sep\": False, \"padding\": 0},\n",
    "    \"conv1x3\": {\"kernel_size\": (1, 3), \"sep\": False, \"padding\": (0, 1)},\n",
    "    \"conv3x1\": {\"kernel_size\": (3, 1), \"sep\": False, \"padding\": (1, 0)}\n",
    "}\n",
    "\n",
    "results = {}\n",
    "\n",
    "for name, param in params.items():\n",
    "    timings = []\n",
    "\n",
    "    for filter_num in filter_nums:\n",
    "        layers = [get_conv(filter_num, param) for _ in range(layer_num)]\n",
    "        model = nn.Sequential(*layers)\n",
    "        \n",
    "        if use_gpu:\n",
    "            input = Variable(torch.randn(batch_num, filter_num, image_size, image_size).cuda())\n",
    "            model.cuda()            \n",
    "        else:\n",
    "            input = Variable(torch.randn(batch_num, filter_num, image_size, image_size))\n",
    "            \n",
    "        out = model(input)\n",
    "\n",
    "        start = time.time()\n",
    "\n",
    "        for i in range(100):\n",
    "            out = model(input)\n",
    "\n",
    "        elapsed_time = time.time() - start\n",
    "        timings.append(elapsed_time)\n",
    "\n",
    "    results[name] = timings"
   ]
  },
  {
   "cell_type": "code",
   "execution_count": 2,
   "metadata": {},
   "outputs": [
    {
     "data": {
      "text/plain": [
       "<matplotlib.legend.Legend at 0x7f1970554898>"
      ]
     },
     "execution_count": 2,
     "metadata": {},
     "output_type": "execute_result"
    },
    {
     "data": {
      "image/png": "[encoded data removed]",
      "text/plain": [
       "<matplotlib.figure.Figure at 0x7f19705548d0>"
      ]
     },
     "metadata": {},
     "output_type": "display_data"
    }
   ],
   "source": [
    "for name in params.keys():\n",
    "    plt.plot(filter_nums, results[name], label=name, marker=\"o\")\n",
    "\n",
    "plt.xlabel(\"number of filters\")\n",
    "plt.ylabel(\"processing time\")\n",
    "plt.legend()"
   ]
  },
  {
   "cell_type": "code",
   "execution_count": 3,
   "metadata": {},
   "outputs": [
    {
     "name": "stdout",
     "output_type": "stream",
     "text": [
      "||conv1x1|conv3x1|conv1x3|conv3x3sep|conv3x3|conv5x5|\n|:-:|:-:|:-:|:-:|:-:|:-:|:-:|\n|processing time [sec]|0.102|0.173|0.169|3.786|0.230|1.108|\n|vs 3x3|0.441|0.750|0.733|16.447|1.000|4.816|\n|theoretical complexity|0.111|0.333|0.333|0.016|1.000|2.778|\n"
     ]
    }
   ],
   "source": [
    "convs = [\"conv1x1\", \"conv3x1\", \"conv1x3\", \"conv3x3sep\", \"conv3x3\", \"conv5x5\"]\n",
    "\n",
    "print(\"||\" + \"|\".join(convs) + \"|\")\n",
    "print(\"|:-:|:-:|:-:|:-:|:-:|:-:|:-:|\")\n",
    "print(\"|processing time [sec]|\" + \"|\".join([\"{:0.3f}\".format(results[n][-1]) for n in convs]) + \"|\")\n",
    "print(\"|vs 3x3|\" + \"|\".join([\"{:0.3f}\".format(results[n][-1]/results[\"conv3x3\"][-1]) for n in convs]) + \"|\")\n",
    "print(\"|theoretical complexity|0.111|0.333|0.333|0.016|1.000|2.778|\")"
   ]
  },
  {
   "cell_type": "code",
   "execution_count": null,
   "metadata": {},
   "outputs": [],
   "source": [
    ""
   ]
  }
 ],
 "metadata": {
  "kernelspec": {
   "display_name": "Python 2",
   "language": "python",
   "name": "python2"
  },
  "language_info": {
   "codemirror_mode": {
    "name": "ipython",
    "version": 2.0
   },
   "file_extension": ".py",
   "mimetype": "text/x-python",
   "name": "python",
   "nbconvert_exporter": "python",
   "pygments_lexer": "ipython2",
   "version": "2.7.6"
  }
 },
 "nbformat": 4,
 "nbformat_minor": 0
}